{
 "cells": [
  {
   "cell_type": "markdown",
   "metadata": {},
   "source": [
    "# ゼロから作る遺伝的アルゴリズム\n",
    "\n",
    "## 概要\n",
    "### 目標\n",
    "+ ライブラリに頼らずゼロから作ることでアルゴリズムの中身を理解する\n",
    "+ リアルタイムに更新状況を確認することでどういう風に進化しているかを見る\n",
    "    \n",
    "### 今回最適化する問題\n",
    "\n",
    "+ **2変数関数の最大値を求める**\n",
    "\n",
    "### 遺伝的アルゴリズムの基礎的な流れ\n",
    "\n",
    "1. 第1世代の個体群の生成\n",
    "2. 適応度の高い個体を選択(一番関数の最大値が高いものを選択)\n",
    "3. エリート個体との交差や突然変異で次の世代の個体群を生成\n",
    "4. 2と3を繰り返すことで、最後に最も適応度の高い個体を解として出力"
   ]
  },
  {
   "cell_type": "markdown",
   "metadata": {},
   "source": [
    "### 参考サイト\n",
    "> https://qiita.com/peperoncino000/items/0f527a72270430017d8d"
   ]
  },
  {
   "cell_type": "markdown",
   "metadata": {},
   "source": [
    "## 使用ライブラリのインポート"
   ]
  },
  {
   "cell_type": "code",
   "execution_count": 21,
   "metadata": {},
   "outputs": [],
   "source": [
    "import random\n",
    "import numpy as np\n",
    "random.seed(98) # 再現性の担保"
   ]
  },
  {
   "cell_type": "markdown",
   "metadata": {},
   "source": [
    "## 1.個体群の生成"
   ]
  },
  {
   "cell_type": "code",
   "execution_count": 15,
   "metadata": {},
   "outputs": [],
   "source": [
    "## テスト関数と仮初期値設定\n",
    "x, y = 1e-7, 1e-7\n",
    "\n",
    "## 変数設定\n",
    "gene_length = 2 # 遺伝子の長さ。今回は2変数なので2\n",
    "individual_length = 10 # 個体数\n",
    "generation = 50 # 世代数\n",
    "mutate_rate = 0.1 # 突然変異の割合\n",
    "elite_rate = 0.2 # 残すエリートの割合"
   ]
  },
  {
   "cell_type": "code",
   "execution_count": 8,
   "metadata": {},
   "outputs": [],
   "source": [
    "population = []\n",
    "for i in range(individual_length):\n",
    "    population.append([random.random() for j in range(gene_length)])"
   ]
  },
  {
   "cell_type": "code",
   "execution_count": 10,
   "metadata": {},
   "outputs": [
    {
     "name": "stdout",
     "output_type": "stream",
     "text": [
      "[[0.35639820676272216, 0.8311602774491931], [0.35237864716479084, 0.0587248129543273], [0.4733305296443464, 0.7281813831416379], [0.6784899127202754, 0.06465340992924462], [0.49701684646407485, 0.19592491833566006], [0.03453679871361848, 0.9796207979853099], [0.7048751023416616, 0.36096984151020983], [0.7759995593130692, 0.7911525137028831], [0.007468944436742619, 0.3833047283684954], [0.30461586515781447, 0.046179053500550626]]\n"
     ]
    }
   ],
   "source": [
    "# x,y の座標の入った個体が10個生成される\n",
    "print(population)"
   ]
  },
  {
   "cell_type": "markdown",
   "metadata": {},
   "source": [
    "## 2. 適応度と評価、交叉と突然変異の実装\n",
    "\n",
    "今回の適応度については関数の最大値としているため最大値が最も高いものを適応していると判断しています。"
   ]
  },
  {
   "cell_type": "markdown",
   "metadata": {},
   "source": [
    "### 適応度と評価の実装"
   ]
  },
  {
   "cell_type": "code",
   "execution_count": 20,
   "metadata": {},
   "outputs": [],
   "source": [
    "def fitness(x,y):\n",
    "    return 1 / x**2 * 5  + y**2 * 5 + 0.7  \n",
    "\n",
    "def evaluate(pop):\n",
    "    pop.sort(reverse=True)\n",
    "    return pop"
   ]
  },
  {
   "attachments": {
    "%E3%82%B9%E3%82%AF%E3%83%AA%E3%83%BC%E3%83%B3%E3%82%B7%E3%83%A7%E3%83%83%E3%83%88%202018-04-22%2019.51.51.png": {
     "image/png": "[encoded data removed]"
    }
   },
   "cell_type": "markdown",
   "metadata": {},
   "source": [
    "### 交叉と突然変異の実装\n",
    "今回は2変数であるため、以下の2種の交叉方法を実装する。\n",
    "\n",
    "+ BLX-α\n",
    "    + 両親の遺伝子が表す実数値ベクトルの区間を両方向にαだけ拡張した区間から、一様乱数に従ってランダムに子を生成する手法\n",
    "    ![%E3%82%B9%E3%82%AF%E3%83%AA%E3%83%BC%E3%83%B3%E3%82%B7%E3%83%A7%E3%83%83%E3%83%88%202018-04-22%2019.51.51.png](attachment:%E3%82%B9%E3%82%AF%E3%83%AA%E3%83%BC%E3%83%B3%E3%82%B7%E3%83%A7%E3%83%83%E3%83%88%202018-04-22%2019.51.51.png)\n",
    "    > http://www.sist.ac.jp/~kanakubo/research/evolutionary_computing/lbx_spx.html\n",
    "+ UNDX\n",
    "    + 2個体の親を結ぶ直線の周辺に正規分布に従って子を生成する手法。この時3番目の親を正規分布の標準偏差を決めるために用いる。"
   ]
  },
  {
   "cell_type": "code",
   "execution_count": 25,
   "metadata": {},
   "outputs": [],
   "source": [
    "alpha=0.3\n",
    "def blx_alpha_crossover(parent1, parent2, alpha):\n",
    "    # 親個体の距離\n",
    "    dx = abs(parent1[0] - parent2[0])\n",
    "    dy = abs(parent1[1] - parent2[1])\n",
    "    # 親個体の座標の最小値\n",
    "    min_x = min(parent1[0], parent2[0])\n",
    "    min_y = min(parent1[1], parent2[1])\n",
    "    # 親子体の座標の最大値\n",
    "    max_x = max(parent1[0], parent2[0])\n",
    "    max_y = max(parent1[1], parent2[1])\n",
    "    \n",
    "    # 次の世代の座標をalpha分だけずらす\n",
    "    min_cx = min_x - alpha * dx\n",
    "    max_cx = max_x + alpha * dx\n",
    "    min_cy = min_y - alpha * dy\n",
    "    max_cy = max_y + alpha * dy\n",
    "    \n",
    "    # 一様乱数に従って範囲内から座標を決定する\n",
    "    return ((max_cx - min_cx) * np.random.rand() + min_cx, \\\n",
    "           (max_cy - min_cy) * np.random.rand() + min_cy)"
   ]
  },
  {
   "cell_type": "code",
   "execution_count": null,
   "metadata": {},
   "outputs": [],
   "source": []
  }
 ],
 "metadata": {
  "kernelspec": {
   "display_name": "Python 3",
   "language": "python",
   "name": "python3"
  },
  "language_info": {
   "codemirror_mode": {
    "name": "ipython",
    "version": 3
   },
   "file_extension": ".py",
   "mimetype": "text/x-python",
   "name": "python",
   "nbconvert_exporter": "python",
   "pygments_lexer": "ipython3",
   "version": "3.6.4"
  }
 },
 "nbformat": 4,
 "nbformat_minor": 2
}
