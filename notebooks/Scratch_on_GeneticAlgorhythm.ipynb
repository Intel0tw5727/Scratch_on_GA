{
 "cells": [
  {
   "cell_type": "markdown",
   "metadata": {},
   "source": [
    "# ゼロから作る遺伝的アルゴリズム\n",
    "\n",
    "## 概要\n",
    "### 目標\n",
    "+ ライブラリに頼らずゼロから作ることでアルゴリズムの中身を理解する\n",
    "+ リアルタイムに更新状況を確認することでどういう風に進化しているかを見る\n",
    "    \n",
    "### 今回最適化する問題\n",
    "\n",
    "+ **2変数関数の最大値を求める**\n",
    "\n",
    "### 遺伝的アルゴリズムの基礎的な流れ\n",
    "\n",
    "1. 第1世代の個体群の生成\n",
    "2. 適応度の高い個体を選択(一番関数の最大値が高いものを選択)\n",
    "3. エリート個体との交差や突然変異で次の世代の個体群を生成\n",
    "4. 2と3を繰り返すことで、最後に最も適応度の高い個体を解として出力"
   ]
  },
  {
   "cell_type": "markdown",
   "metadata": {},
   "source": [
    "### 参考サイト\n",
    "> https://qiita.com/peperoncino000/items/0f527a72270430017d8d"
   ]
  },
  {
   "cell_type": "markdown",
   "metadata": {},
   "source": [
    "## 使用ライブラリのインポート"
   ]
  },
  {
   "cell_type": "code",
   "execution_count": 6,
   "metadata": {},
   "outputs": [],
   "source": [
    "import random\n",
    "random.seed(98) # 再現性の担保"
   ]
  },
  {
   "cell_type": "markdown",
   "metadata": {},
   "source": [
    "## 1.個体群の生成"
   ]
  },
  {
   "cell_type": "code",
   "execution_count": 3,
   "metadata": {},
   "outputs": [],
   "source": [
    "gene_length = 2 # 遺伝子の長さ。今回は2変数なので2\n",
    "individual_length = 10 # 個体数\n",
    "generation = 50 # 世代数\n",
    "mutate_rate = 0.1 # 突然変異の割合\n",
    "elite_rate = 0.2 # 残すエリートの割合"
   ]
  },
  {
   "cell_type": "code",
   "execution_count": 8,
   "metadata": {},
   "outputs": [],
   "source": [
    "population = []\n",
    "for i in range(individual_length):\n",
    "    population.append([random.random() for j in range(gene_length)])"
   ]
  },
  {
   "cell_type": "code",
   "execution_count": 10,
   "metadata": {},
   "outputs": [
    {
     "name": "stdout",
     "output_type": "stream",
     "text": [
      "[[0.35639820676272216, 0.8311602774491931], [0.35237864716479084, 0.0587248129543273], [0.4733305296443464, 0.7281813831416379], [0.6784899127202754, 0.06465340992924462], [0.49701684646407485, 0.19592491833566006], [0.03453679871361848, 0.9796207979853099], [0.7048751023416616, 0.36096984151020983], [0.7759995593130692, 0.7911525137028831], [0.007468944436742619, 0.3833047283684954], [0.30461586515781447, 0.046179053500550626]]\n"
     ]
    }
   ],
   "source": [
    "# x,y の座標の入った個体が10個生成される\n",
    "print(population)"
   ]
  },
  {
   "cell_type": "markdown",
   "metadata": {},
   "source": [
    "## 2. 評価とこうさ"
   ]
  }
 ],
 "metadata": {
  "kernelspec": {
   "display_name": "Python 3",
   "language": "python",
   "name": "python3"
  },
  "language_info": {
   "codemirror_mode": {
    "name": "ipython",
    "version": 3
   },
   "file_extension": ".py",
   "mimetype": "text/x-python",
   "name": "python",
   "nbconvert_exporter": "python",
   "pygments_lexer": "ipython3",
   "version": "3.6.4"
  }
 },
 "nbformat": 4,
 "nbformat_minor": 2
}
